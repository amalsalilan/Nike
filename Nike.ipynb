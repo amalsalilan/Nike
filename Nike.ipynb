{
 "cells": [
  {
   "cell_type": "code",
   "execution_count": 5,
   "id": "29b554da",
   "metadata": {},
   "outputs": [],
   "source": [
    "import pandas as pd\n",
    "import numpy as np\n",
    "import seaborn as sns\n",
    "import matplotlib.pyplot as plt"
   ]
  },
  {
   "cell_type": "code",
   "execution_count": 6,
   "outputs": [
    {
     "name": "stdout",
     "output_type": "stream",
     "text": [
      "Requirement already satisfied: seaborn in d:\\documents\\anacondadrive\\envs\\workspace\\lib\\site-packages (0.12.1)\n",
      "Requirement already satisfied: pandas>=0.25 in d:\\documents\\anacondadrive\\envs\\workspace\\lib\\site-packages (from seaborn) (1.5.2)\n",
      "Requirement already satisfied: numpy>=1.17 in d:\\documents\\anacondadrive\\envs\\workspace\\lib\\site-packages (from seaborn) (1.23.5)\n",
      "Requirement already satisfied: matplotlib!=3.6.1,>=3.1 in d:\\documents\\anacondadrive\\envs\\workspace\\lib\\site-packages (from seaborn) (3.6.2)\n",
      "Requirement already satisfied: fonttools>=4.22.0 in d:\\documents\\anacondadrive\\envs\\workspace\\lib\\site-packages (from matplotlib!=3.6.1,>=3.1->seaborn) (4.38.0)\n",
      "Requirement already satisfied: cycler>=0.10 in d:\\documents\\anacondadrive\\envs\\workspace\\lib\\site-packages (from matplotlib!=3.6.1,>=3.1->seaborn) (0.11.0)\n",
      "Requirement already satisfied: pyparsing>=2.2.1 in d:\\documents\\anacondadrive\\envs\\workspace\\lib\\site-packages (from matplotlib!=3.6.1,>=3.1->seaborn) (3.0.9)\n",
      "Requirement already satisfied: packaging>=20.0 in d:\\documents\\anacondadrive\\envs\\workspace\\lib\\site-packages (from matplotlib!=3.6.1,>=3.1->seaborn) (21.3)\n",
      "Requirement already satisfied: kiwisolver>=1.0.1 in d:\\documents\\anacondadrive\\envs\\workspace\\lib\\site-packages (from matplotlib!=3.6.1,>=3.1->seaborn) (1.4.4)\n",
      "Requirement already satisfied: python-dateutil>=2.7 in d:\\documents\\anacondadrive\\envs\\workspace\\lib\\site-packages (from matplotlib!=3.6.1,>=3.1->seaborn) (2.8.2)\n",
      "Requirement already satisfied: contourpy>=1.0.1 in d:\\documents\\anacondadrive\\envs\\workspace\\lib\\site-packages (from matplotlib!=3.6.1,>=3.1->seaborn) (1.0.6)\n",
      "Requirement already satisfied: pillow>=6.2.0 in d:\\documents\\anacondadrive\\envs\\workspace\\lib\\site-packages (from matplotlib!=3.6.1,>=3.1->seaborn) (9.3.0)\n",
      "Requirement already satisfied: pytz>=2020.1 in d:\\documents\\anacondadrive\\envs\\workspace\\lib\\site-packages (from pandas>=0.25->seaborn) (2022.1)\n",
      "Requirement already satisfied: six>=1.5 in d:\\documents\\anacondadrive\\envs\\workspace\\lib\\site-packages (from python-dateutil>=2.7->matplotlib!=3.6.1,>=3.1->seaborn) (1.16.0)\n",
      "Note: you may need to restart the kernel to use updated packages.\n"
     ]
    }
   ],
   "source": [],
   "metadata": {
    "collapsed": false
   }
  },
  {
   "cell_type": "code",
   "execution_count": 7,
   "id": "a15d8378",
   "metadata": {},
   "outputs": [
    {
     "data": {
      "text/plain": "   index                                                url  \\\n0      0  https://www.nike.com/t/dri-fit-team-minnesota-...   \n1      1  https://www.nike.com/t/club-américa-womens-dri...   \n2      2  https://www.nike.com/t/sportswear-swoosh-mens-...   \n\n                                      name  \\\n0  Nike Dri-FIT Team (MLB Minnesota Twins)   \n1                             Club América   \n2                   Nike Sportswear Swoosh   \n\n                                  sub_title brand     model        color  \\\n0                 Men's Long-Sleeve T-Shirt  Nike  14226571         Navy   \n1  Women's Nike Dri-FIT Soccer Jersey Dress  Nike  13814665  Black/Black   \n2                            Men's Overalls  Nike  13015648  Black/White   \n\n   price currency availability  \\\n0   40.0      USD      InStock   \n1   90.0      USD      InStock   \n2  140.0      USD   OutOfStock   \n\n                                         description  \\\n0  SWEAT-WICKING COMFORT.The Nike Dri-FIT Team (M...   \n1  Inspired by traditional soccer jerseys, the Cl...   \n2  WORKING HARD TO KEEP YOU COMFORTABLE.The Nike ...   \n\n                                     raw_description  avg_rating  \\\n0  <div class=\"pi-pdpmainbody\"><p><b class=\"headl...         NaN   \n1  <div class=\"pi-pdpmainbody\"><br/><p>Inspired b...         5.0   \n2  <div class=\"pi-pdpmainbody\"><p><b class=\"headl...         4.9   \n\n   review_count                                             images  \\\n0           NaN  https://static.nike.com/a/images/t_PDP_1280_v1...   \n1           1.0  https://static.nike.com/a/images/t_PDP_1280_v1...   \n2          11.0  https://static.nike.com/a/images/t_PDP_1280_v1...   \n\n        available_sizes                               uniq_id  \\\n0  S | M | L | XL | 2XL  c3229e54-aa58-5fdd-9f71-fbe66366b2b2   \n1             L (12–14)  f8ebb2ed-17ae-5719-b750-5ea3ec69b75c   \n2                   NaN  88120081-e6cb-5399-b9dc-a2d3d5dd5206   \n\n            scraped_at  \n0  20/09/2022 23:32:28  \n1  20/09/2022 23:32:40  \n2  20/09/2022 23:33:16  ",
      "text/html": "<div>\n<style scoped>\n    .dataframe tbody tr th:only-of-type {\n        vertical-align: middle;\n    }\n\n    .dataframe tbody tr th {\n        vertical-align: top;\n    }\n\n    .dataframe thead th {\n        text-align: right;\n    }\n</style>\n<table border=\"1\" class=\"dataframe\">\n  <thead>\n    <tr style=\"text-align: right;\">\n      <th></th>\n      <th>index</th>\n      <th>url</th>\n      <th>name</th>\n      <th>sub_title</th>\n      <th>brand</th>\n      <th>model</th>\n      <th>color</th>\n      <th>price</th>\n      <th>currency</th>\n      <th>availability</th>\n      <th>description</th>\n      <th>raw_description</th>\n      <th>avg_rating</th>\n      <th>review_count</th>\n      <th>images</th>\n      <th>available_sizes</th>\n      <th>uniq_id</th>\n      <th>scraped_at</th>\n    </tr>\n  </thead>\n  <tbody>\n    <tr>\n      <th>0</th>\n      <td>0</td>\n      <td>https://www.nike.com/t/dri-fit-team-minnesota-...</td>\n      <td>Nike Dri-FIT Team (MLB Minnesota Twins)</td>\n      <td>Men's Long-Sleeve T-Shirt</td>\n      <td>Nike</td>\n      <td>14226571</td>\n      <td>Navy</td>\n      <td>40.0</td>\n      <td>USD</td>\n      <td>InStock</td>\n      <td>SWEAT-WICKING COMFORT.The Nike Dri-FIT Team (M...</td>\n      <td>&lt;div class=\"pi-pdpmainbody\"&gt;&lt;p&gt;&lt;b class=\"headl...</td>\n      <td>NaN</td>\n      <td>NaN</td>\n      <td>https://static.nike.com/a/images/t_PDP_1280_v1...</td>\n      <td>S | M | L | XL | 2XL</td>\n      <td>c3229e54-aa58-5fdd-9f71-fbe66366b2b2</td>\n      <td>20/09/2022 23:32:28</td>\n    </tr>\n    <tr>\n      <th>1</th>\n      <td>1</td>\n      <td>https://www.nike.com/t/club-américa-womens-dri...</td>\n      <td>Club América</td>\n      <td>Women's Nike Dri-FIT Soccer Jersey Dress</td>\n      <td>Nike</td>\n      <td>13814665</td>\n      <td>Black/Black</td>\n      <td>90.0</td>\n      <td>USD</td>\n      <td>InStock</td>\n      <td>Inspired by traditional soccer jerseys, the Cl...</td>\n      <td>&lt;div class=\"pi-pdpmainbody\"&gt;&lt;br/&gt;&lt;p&gt;Inspired b...</td>\n      <td>5.0</td>\n      <td>1.0</td>\n      <td>https://static.nike.com/a/images/t_PDP_1280_v1...</td>\n      <td>L (12–14)</td>\n      <td>f8ebb2ed-17ae-5719-b750-5ea3ec69b75c</td>\n      <td>20/09/2022 23:32:40</td>\n    </tr>\n    <tr>\n      <th>2</th>\n      <td>2</td>\n      <td>https://www.nike.com/t/sportswear-swoosh-mens-...</td>\n      <td>Nike Sportswear Swoosh</td>\n      <td>Men's Overalls</td>\n      <td>Nike</td>\n      <td>13015648</td>\n      <td>Black/White</td>\n      <td>140.0</td>\n      <td>USD</td>\n      <td>OutOfStock</td>\n      <td>WORKING HARD TO KEEP YOU COMFORTABLE.The Nike ...</td>\n      <td>&lt;div class=\"pi-pdpmainbody\"&gt;&lt;p&gt;&lt;b class=\"headl...</td>\n      <td>4.9</td>\n      <td>11.0</td>\n      <td>https://static.nike.com/a/images/t_PDP_1280_v1...</td>\n      <td>NaN</td>\n      <td>88120081-e6cb-5399-b9dc-a2d3d5dd5206</td>\n      <td>20/09/2022 23:33:16</td>\n    </tr>\n  </tbody>\n</table>\n</div>"
     },
     "execution_count": 7,
     "metadata": {},
     "output_type": "execute_result"
    }
   ],
   "source": [
    "data=pd.read_csv('nike_data_2022_09.csv')\n",
    "data.head(3)"
   ]
  },
  {
   "cell_type": "code",
   "execution_count": 8,
   "id": "fa54f7c6",
   "metadata": {},
   "outputs": [
    {
     "name": "stdout",
     "output_type": "stream",
     "text": [
      "<class 'pandas.core.frame.DataFrame'>\n",
      "RangeIndex: 112 entries, 0 to 111\n",
      "Data columns (total 18 columns):\n",
      " #   Column           Non-Null Count  Dtype  \n",
      "---  ------           --------------  -----  \n",
      " 0   index            112 non-null    int64  \n",
      " 1   url              112 non-null    object \n",
      " 2   name             112 non-null    object \n",
      " 3   sub_title        112 non-null    object \n",
      " 4   brand            112 non-null    object \n",
      " 5   model            112 non-null    int64  \n",
      " 6   color            110 non-null    object \n",
      " 7   price            112 non-null    float64\n",
      " 8   currency         112 non-null    object \n",
      " 9   availability     108 non-null    object \n",
      " 10  description      112 non-null    object \n",
      " 11  raw_description  112 non-null    object \n",
      " 12  avg_rating       23 non-null     float64\n",
      " 13  review_count     23 non-null     float64\n",
      " 14  images           108 non-null    object \n",
      " 15  available_sizes  56 non-null     object \n",
      " 16  uniq_id          112 non-null    object \n",
      " 17  scraped_at       112 non-null    object \n",
      "dtypes: float64(3), int64(2), object(13)\n",
      "memory usage: 15.9+ KB\n"
     ]
    }
   ],
   "source": [
    "data.info()"
   ]
  },
  {
   "cell_type": "code",
   "execution_count": 9,
   "id": "9e6843f5",
   "metadata": {},
   "outputs": [
    {
     "data": {
      "text/plain": "Black                        15\nWhite                         9\nNavy                          3\nBlack/White                   3\nMulti-Color                   3\n                             ..\nCharcoal Heather/Red          1\nBlack/Black/Black             1\nBlack/Black                   1\nMulti-Color/Lavender Mist     1\nOrange                        1\nName: color, Length: 76, dtype: int64"
     },
     "execution_count": 9,
     "metadata": {},
     "output_type": "execute_result"
    }
   ],
   "source": [
    "data['color'].value_counts()"
   ]
  },
  {
   "cell_type": "code",
   "execution_count": 10,
   "id": "35ce3dd4",
   "metadata": {},
   "outputs": [
    {
     "ename": "TypeError",
     "evalue": "'method' object is not subscriptable",
     "output_type": "error",
     "traceback": [
      "\u001B[1;31m---------------------------------------------------------------------------\u001B[0m",
      "\u001B[1;31mTypeError\u001B[0m                                 Traceback (most recent call last)",
      "Cell \u001B[1;32mIn [10], line 1\u001B[0m\n\u001B[1;32m----> 1\u001B[0m \u001B[43mdata\u001B[49m\u001B[38;5;241;43m.\u001B[39;49m\u001B[43mgroupby\u001B[49m\u001B[43m[\u001B[49m\u001B[43m(\u001B[49m\u001B[38;5;124;43m'\u001B[39;49m\u001B[38;5;124;43mname\u001B[39;49m\u001B[38;5;124;43m'\u001B[39;49m\u001B[43m,\u001B[49m\u001B[38;5;124;43m'\u001B[39;49m\u001B[38;5;124;43mmodel\u001B[39;49m\u001B[38;5;124;43m'\u001B[39;49m\u001B[43m)\u001B[49m\u001B[43m]\u001B[49m\u001B[38;5;241m.\u001B[39mprice\u001B[38;5;241m.\u001B[39mag\n",
      "\u001B[1;31mTypeError\u001B[0m: 'method' object is not subscriptable"
     ]
    }
   ],
   "source": []
  },
  {
   "cell_type": "code",
   "execution_count": null,
   "id": "f6733ff9",
   "metadata": {},
   "outputs": [],
   "source": [
    "data.groupby('avg_rating').price.count().plot(kind='bar',color='green')"
   ]
  },
  {
   "cell_type": "code",
   "execution_count": null,
   "id": "fbf2e1cb",
   "metadata": {},
   "outputs": [],
   "source": [
    "df_sorted=data.sort_values(\"price\", ascending=False)\n",
    "sns.set_theme(style=\"whitegrid\")\n",
    "f, ax = plt.subplots(figsize=(6, 15))\n",
    "sns.set_color_codes(\"pastel\")\n",
    "sns.barplot(x=\"price\", y=\"name\", data=df_sorted,\n",
    "            label=\"Price of nike\", color=\"green\")\n",
    "sns.despine(left=True, bottom=True)"
   ]
  },
  {
   "cell_type": "code",
   "execution_count": null,
   "id": "64f88a7a",
   "metadata": {},
   "outputs": [],
   "source": []
  }
 ],
 "metadata": {
  "kernelspec": {
   "display_name": "Python 3 (ipykernel)",
   "language": "python",
   "name": "python3"
  },
  "language_info": {
   "codemirror_mode": {
    "name": "ipython",
    "version": 3
   },
   "file_extension": ".py",
   "mimetype": "text/x-python",
   "name": "python",
   "nbconvert_exporter": "python",
   "pygments_lexer": "ipython3",
   "version": "3.9.13"
  }
 },
 "nbformat": 4,
 "nbformat_minor": 5
}
